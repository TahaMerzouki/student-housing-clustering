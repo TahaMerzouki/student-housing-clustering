{
 "cells": [
  {
   "cell_type": "markdown",
   "metadata": {},
   "source": [
    "## Fetch Locations"
   ]
  },
  {
   "cell_type": "markdown",
   "metadata": {},
   "source": [
    "import libraries"
   ]
  },
  {
   "cell_type": "code",
   "execution_count": 1,
   "metadata": {},
   "outputs": [],
   "source": [
    "import sys\n",
    "sys.path.append(\"../src\")\n",
    "from api import foursquare\n",
    "import pandas as pd\n",
    "import json"
   ]
  },
  {
   "cell_type": "markdown",
   "metadata": {},
   "source": [
    "Get coordinates of the Mercyhurst University (Erie, Pennsylvania).\n",
    "This is where the survey took place."
   ]
  },
  {
   "cell_type": "code",
   "execution_count": 9,
   "metadata": {},
   "outputs": [],
   "source": [
    "#\n",
    "with open(\"../data/raw/mercyhurst_coordinates.txt\") as file:\n",
    "    ll = json.loads(file.read())['ll']\n",
    "    file.close()"
   ]
  },
  {
   "cell_type": "markdown",
   "metadata": {},
   "source": [
    "Form a query to check for residential locations in a fixed radius around the Mercyhurst University."
   ]
  },
  {
   "cell_type": "code",
   "execution_count": 3,
   "metadata": {},
   "outputs": [
    {
     "data": {
      "text/plain": [
       "<Response [200]>"
      ]
     },
     "execution_count": 3,
     "metadata": {},
     "output_type": "execute_result"
    }
   ],
   "source": [
    "fsc=foursquare.FoursqaurClient(\"../src/api/credentials.txt\")\n",
    "response = fsc.request_residentials(ll=ll, radius=100000, limit=50)\n",
    "response"
   ]
  },
  {
   "cell_type": "markdown",
   "metadata": {},
   "source": [
    "parse the response data (resedential locations) into a usable dataframe and clean the data."
   ]
  },
  {
   "cell_type": "code",
   "execution_count": 4,
   "metadata": {},
   "outputs": [],
   "source": [
    "results=response.json()['results']\n"
   ]
  },
  {
   "cell_type": "code",
   "execution_count": 10,
   "metadata": {},
   "outputs": [
    {
     "name": "stdout",
     "output_type": "stream",
     "text": [
      "there are 47 results in the response\n"
     ]
    }
   ],
   "source": [
    "print(f'there are {len(results)} results in the response')\n",
    "#make a list of dictionaries with the fsq_id ,latitude, longitude, name, address, city, state, country and postal_code\n",
    "venues=[]\n",
    "for venue in results:\n",
    "    venues.append({'latitude':venue['geocodes']['main']['latitude'],\n",
    "                   'longitude':venue['geocodes']['main']['longitude'],\n",
    "                   'fsq_id':venue['fsq_id'],\n",
    "                   'address':venue['location']['address'],\n",
    "                   'country':venue['location']['country'],\n",
    "                   'postal_code':venue['location']['postcode'],\n",
    "                   'region':venue['location']['region']})"
   ]
  },
  {
   "cell_type": "code",
   "execution_count": 11,
   "metadata": {},
   "outputs": [
    {
     "data": {
      "text/html": [
       "<div>\n",
       "<style scoped>\n",
       "    .dataframe tbody tr th:only-of-type {\n",
       "        vertical-align: middle;\n",
       "    }\n",
       "\n",
       "    .dataframe tbody tr th {\n",
       "        vertical-align: top;\n",
       "    }\n",
       "\n",
       "    .dataframe thead th {\n",
       "        text-align: right;\n",
       "    }\n",
       "</style>\n",
       "<table border=\"1\" class=\"dataframe\">\n",
       "  <thead>\n",
       "    <tr style=\"text-align: right;\">\n",
       "      <th></th>\n",
       "      <th>latitude</th>\n",
       "      <th>longitude</th>\n",
       "      <th>fsq_id</th>\n",
       "      <th>address</th>\n",
       "      <th>country</th>\n",
       "      <th>postal_code</th>\n",
       "      <th>region</th>\n",
       "    </tr>\n",
       "  </thead>\n",
       "  <tbody>\n",
       "    <tr>\n",
       "      <th>0</th>\n",
       "      <td>42.123440</td>\n",
       "      <td>-80.077909</td>\n",
       "      <td>4f2293846d867182dff007d9</td>\n",
       "      <td>153 E 13th St</td>\n",
       "      <td>US</td>\n",
       "      <td>16503</td>\n",
       "      <td>PA</td>\n",
       "    </tr>\n",
       "    <tr>\n",
       "      <th>1</th>\n",
       "      <td>42.126495</td>\n",
       "      <td>-80.087438</td>\n",
       "      <td>4ef9be2cc512f2277a8b55f8</td>\n",
       "      <td>160 W 8th St</td>\n",
       "      <td>US</td>\n",
       "      <td>16501</td>\n",
       "      <td>PA</td>\n",
       "    </tr>\n",
       "    <tr>\n",
       "      <th>2</th>\n",
       "      <td>42.067218</td>\n",
       "      <td>-80.089730</td>\n",
       "      <td>4bf522b498ac0f47fbb564a8</td>\n",
       "      <td>1717 Kuntz Rd</td>\n",
       "      <td>US</td>\n",
       "      <td>16509</td>\n",
       "      <td>PA</td>\n",
       "    </tr>\n",
       "    <tr>\n",
       "      <th>3</th>\n",
       "      <td>42.091566</td>\n",
       "      <td>-79.296095</td>\n",
       "      <td>512bd37ae4b01d58196c800a</td>\n",
       "      <td>2109 Southwestern Dr</td>\n",
       "      <td>US</td>\n",
       "      <td>14750</td>\n",
       "      <td>NY</td>\n",
       "    </tr>\n",
       "    <tr>\n",
       "      <th>4</th>\n",
       "      <td>42.109142</td>\n",
       "      <td>-79.287287</td>\n",
       "      <td>5143ddc752cd4de5f8eecdec</td>\n",
       "      <td>75 Marine Park Dr</td>\n",
       "      <td>US</td>\n",
       "      <td>14720</td>\n",
       "      <td>NY</td>\n",
       "    </tr>\n",
       "  </tbody>\n",
       "</table>\n",
       "</div>"
      ],
      "text/plain": [
       "    latitude  longitude                    fsq_id               address  \\\n",
       "0  42.123440 -80.077909  4f2293846d867182dff007d9         153 E 13th St   \n",
       "1  42.126495 -80.087438  4ef9be2cc512f2277a8b55f8          160 W 8th St   \n",
       "2  42.067218 -80.089730  4bf522b498ac0f47fbb564a8         1717 Kuntz Rd   \n",
       "3  42.091566 -79.296095  512bd37ae4b01d58196c800a  2109 Southwestern Dr   \n",
       "4  42.109142 -79.287287  5143ddc752cd4de5f8eecdec     75 Marine Park Dr   \n",
       "\n",
       "  country postal_code region  \n",
       "0      US       16503     PA  \n",
       "1      US       16501     PA  \n",
       "2      US       16509     PA  \n",
       "3      US       14750     NY  \n",
       "4      US       14720     NY  "
      ]
     },
     "execution_count": 11,
     "metadata": {},
     "output_type": "execute_result"
    }
   ],
   "source": [
    "venues_df=pd.DataFrame(venues)\n",
    "venues_df.head()"
   ]
  },
  {
   "cell_type": "markdown",
   "metadata": {},
   "source": [
    "Form another query to get all nearby amenities (fixed in a short distance around each residential location)."
   ]
  },
  {
   "cell_type": "code",
   "execution_count": 12,
   "metadata": {},
   "outputs": [
    {
     "name": "stdout",
     "output_type": "stream",
     "text": [
      "[41, 6, 49, 5, 26, 3, 11, 3, 1, 0, 0, 0, 0, 0, 7, 2, 31, 2, 28, 0, 24, 1, 26, 0, 26, 0, 11, 1, 4, 0, 10, 1, 0, 0, 0, 0, 1, 0, 0, 0, 0, 0, 16, 2, 7, 0, 0, 0, 2, 2, 1, 0, 7, 1, 16, 2, 4, 1, 6, 2, 14, 5, 5, 1, 19, 4, 24, 3, 14, 3, 2, 0, 0, 0, 20, 0, 1, 0, 0, 0, 7, 0, 5, 1, 0, 1, 0, 2, 0, 0, 6, 3, 19, 2]\n"
     ]
    }
   ],
   "source": [
    "n = len(venues_df)\n",
    "restaurants = []\n",
    "groceries = []\n",
    "for i in range(n):\n",
    "    venue = venues_df.iloc[i]\n",
    "    ll = f\"{venue['latitude']},{venue['longitude']}\"\n",
    "    response_restaurants = fsc.request_restaurants(ll=ll, radius=1000, limit=50)\n",
    "    restaurants.append(len(response_restaurants.json()['results']))\n",
    "    response_groceries = fsc.request_groceries(ll=ll, radius=1000, limit=50)\n",
    "    groceries.append(len(response_groceries.json()['results']))\n",
    "\n"
   ]
  },
  {
   "cell_type": "code",
   "execution_count": 24,
   "metadata": {},
   "outputs": [
    {
     "name": "stdout",
     "output_type": "stream",
     "text": [
      "[41, 49, 26, 11, 1, 0, 0, 7, 31, 28, 24, 26, 26, 11, 4, 10, 0, 0, 1, 0, 0, 16, 7, 0, 2, 1, 7, 16, 4, 6, 14, 5, 19, 24, 14, 2, 0, 20, 1, 0, 7, 5, 0, 0, 0, 6, 19]\n"
     ]
    }
   ],
   "source": [
    "print(restaurants)\n"
   ]
  },
  {
   "cell_type": "code",
   "execution_count": 23,
   "metadata": {},
   "outputs": [
    {
     "name": "stdout",
     "output_type": "stream",
     "text": [
      "[6, 5, 3, 3, 0, 0, 0, 2, 2, 0, 1, 0, 0, 1, 0, 1, 0, 0, 0, 0, 0, 2, 0, 0, 2, 0, 1, 2, 1, 2, 5, 1, 4, 3, 3, 0, 0, 0, 0, 0, 0, 1, 1, 2, 0, 3, 2]\n"
     ]
    }
   ],
   "source": [
    "print(groceries)\n"
   ]
  },
  {
   "cell_type": "code",
   "execution_count": 27,
   "metadata": {},
   "outputs": [],
   "source": [
    "venues_df['restaurants'] = restaurants\n",
    "venues_df['groceries'] = groceries"
   ]
  },
  {
   "cell_type": "code",
   "execution_count": 1,
   "metadata": {},
   "outputs": [
    {
     "ename": "NameError",
     "evalue": "name 'venues_df' is not defined",
     "output_type": "error",
     "traceback": [
      "\u001b[1;31m---------------------------------------------------------------------------\u001b[0m",
      "\u001b[1;31mNameError\u001b[0m                                 Traceback (most recent call last)",
      "Cell \u001b[1;32mIn[1], line 1\u001b[0m\n\u001b[1;32m----> 1\u001b[0m \u001b[38;5;28mprint\u001b[39m(\u001b[43mvenues_df\u001b[49m[[\u001b[38;5;124m'\u001b[39m\u001b[38;5;124mrestaurants\u001b[39m\u001b[38;5;124m'\u001b[39m,\u001b[38;5;124m'\u001b[39m\u001b[38;5;124mgroceries\u001b[39m\u001b[38;5;124m'\u001b[39m]]\u001b[38;5;241m.\u001b[39mhead())\n",
      "\u001b[1;31mNameError\u001b[0m: name 'venues_df' is not defined"
     ]
    }
   ],
   "source": [
    "print(venues_df[['restaurants','groceries']].head())"
   ]
  },
  {
   "cell_type": "code",
   "execution_count": null,
   "metadata": {},
   "outputs": [],
   "source": [
    "#save venues_df to a csv file\n",
    "venues_df.to_csv('../data/processed/venues.csv', index=False)"
   ]
  }
 ],
 "metadata": {
  "kernelspec": {
   "display_name": "venv",
   "language": "python",
   "name": "python3"
  },
  "language_info": {
   "codemirror_mode": {
    "name": "ipython",
    "version": 3
   },
   "file_extension": ".py",
   "mimetype": "text/x-python",
   "name": "python",
   "nbconvert_exporter": "python",
   "pygments_lexer": "ipython3",
   "version": "3.9.7"
  }
 },
 "nbformat": 4,
 "nbformat_minor": 2
}
