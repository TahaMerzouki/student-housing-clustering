{
 "cells": [
  {
   "cell_type": "code",
   "execution_count": 1,
   "metadata": {},
   "outputs": [],
   "source": [
    "import numpy as np\n",
    "import pandas as pd\n",
    "import matplotlib.pyplot as plt\n",
    "from sklearn.cluster import KMeans\n",
    "from sklearn.decomposition import PCA"
   ]
  },
  {
   "cell_type": "code",
   "execution_count": 2,
   "metadata": {},
   "outputs": [
    {
     "name": "stdout",
     "output_type": "stream",
     "text": [
      "<class 'pandas.core.frame.DataFrame'>\n",
      "RangeIndex: 47 entries, 0 to 46\n",
      "Data columns (total 9 columns):\n",
      " #   Column       Non-Null Count  Dtype  \n",
      "---  ------       --------------  -----  \n",
      " 0   latitude     47 non-null     float64\n",
      " 1   longitude    47 non-null     float64\n",
      " 2   fsq_id       47 non-null     object \n",
      " 3   address      47 non-null     object \n",
      " 4   country      47 non-null     object \n",
      " 5   postal_code  47 non-null     object \n",
      " 6   region       47 non-null     object \n",
      " 7   restaurants  47 non-null     int64  \n",
      " 8   groceries    47 non-null     int64  \n",
      "dtypes: float64(2), int64(2), object(5)\n",
      "memory usage: 3.4+ KB\n"
     ]
    }
   ],
   "source": [
    "df_venues = pd.read_csv('../data/processed/venues.csv')\n",
    "df_venues.info()"
   ]
  },
  {
   "cell_type": "code",
   "execution_count": 54,
   "metadata": {},
   "outputs": [
    {
     "data": {
      "text/html": [
       "<div>\n",
       "<style scoped>\n",
       "    .dataframe tbody tr th:only-of-type {\n",
       "        vertical-align: middle;\n",
       "    }\n",
       "\n",
       "    .dataframe tbody tr th {\n",
       "        vertical-align: top;\n",
       "    }\n",
       "\n",
       "    .dataframe thead th {\n",
       "        text-align: right;\n",
       "    }\n",
       "</style>\n",
       "<table border=\"1\" class=\"dataframe\">\n",
       "  <thead>\n",
       "    <tr style=\"text-align: right;\">\n",
       "      <th></th>\n",
       "      <th>latitude</th>\n",
       "      <th>longitude</th>\n",
       "      <th>fsq_id</th>\n",
       "      <th>address</th>\n",
       "      <th>country</th>\n",
       "      <th>postal_code</th>\n",
       "      <th>region</th>\n",
       "      <th>restaurants</th>\n",
       "      <th>groceries</th>\n",
       "      <th>cluster</th>\n",
       "    </tr>\n",
       "  </thead>\n",
       "  <tbody>\n",
       "    <tr>\n",
       "      <th>0</th>\n",
       "      <td>42.123440</td>\n",
       "      <td>-80.077909</td>\n",
       "      <td>4f2293846d867182dff007d9</td>\n",
       "      <td>153 E 13th St</td>\n",
       "      <td>US</td>\n",
       "      <td>16503</td>\n",
       "      <td>PA</td>\n",
       "      <td>41</td>\n",
       "      <td>6</td>\n",
       "      <td>2</td>\n",
       "    </tr>\n",
       "    <tr>\n",
       "      <th>1</th>\n",
       "      <td>42.126495</td>\n",
       "      <td>-80.087438</td>\n",
       "      <td>4ef9be2cc512f2277a8b55f8</td>\n",
       "      <td>160 W 8th St</td>\n",
       "      <td>US</td>\n",
       "      <td>16501</td>\n",
       "      <td>PA</td>\n",
       "      <td>49</td>\n",
       "      <td>5</td>\n",
       "      <td>2</td>\n",
       "    </tr>\n",
       "    <tr>\n",
       "      <th>2</th>\n",
       "      <td>42.067218</td>\n",
       "      <td>-80.089730</td>\n",
       "      <td>4bf522b498ac0f47fbb564a8</td>\n",
       "      <td>1717 Kuntz Rd</td>\n",
       "      <td>US</td>\n",
       "      <td>16509</td>\n",
       "      <td>PA</td>\n",
       "      <td>26</td>\n",
       "      <td>3</td>\n",
       "      <td>1</td>\n",
       "    </tr>\n",
       "    <tr>\n",
       "      <th>3</th>\n",
       "      <td>42.091566</td>\n",
       "      <td>-79.296095</td>\n",
       "      <td>512bd37ae4b01d58196c800a</td>\n",
       "      <td>2109 Southwestern Dr</td>\n",
       "      <td>US</td>\n",
       "      <td>14750</td>\n",
       "      <td>NY</td>\n",
       "      <td>11</td>\n",
       "      <td>3</td>\n",
       "      <td>1</td>\n",
       "    </tr>\n",
       "    <tr>\n",
       "      <th>4</th>\n",
       "      <td>42.109142</td>\n",
       "      <td>-79.287287</td>\n",
       "      <td>5143ddc752cd4de5f8eecdec</td>\n",
       "      <td>75 Marine Park Dr</td>\n",
       "      <td>US</td>\n",
       "      <td>14720</td>\n",
       "      <td>NY</td>\n",
       "      <td>1</td>\n",
       "      <td>0</td>\n",
       "      <td>0</td>\n",
       "    </tr>\n",
       "  </tbody>\n",
       "</table>\n",
       "</div>"
      ],
      "text/plain": [
       "    latitude  longitude                    fsq_id               address  \\\n",
       "0  42.123440 -80.077909  4f2293846d867182dff007d9         153 E 13th St   \n",
       "1  42.126495 -80.087438  4ef9be2cc512f2277a8b55f8          160 W 8th St   \n",
       "2  42.067218 -80.089730  4bf522b498ac0f47fbb564a8         1717 Kuntz Rd   \n",
       "3  42.091566 -79.296095  512bd37ae4b01d58196c800a  2109 Southwestern Dr   \n",
       "4  42.109142 -79.287287  5143ddc752cd4de5f8eecdec     75 Marine Park Dr   \n",
       "\n",
       "  country postal_code region  restaurants  groceries  cluster  \n",
       "0      US       16503     PA           41          6        2  \n",
       "1      US       16501     PA           49          5        2  \n",
       "2      US       16509     PA           26          3        1  \n",
       "3      US       14750     NY           11          3        1  \n",
       "4      US       14720     NY            1          0        0  "
      ]
     },
     "execution_count": 54,
     "metadata": {},
     "output_type": "execute_result"
    }
   ],
   "source": [
    "filtering_labels = ['restaurants','groceries']\n",
    "df_venues_filtered = df_venues[filtering_labels]\n",
    "#run k-means clustering on df_venues_filtered\n",
    "#scale the data first\n",
    "from sklearn.preprocessing import StandardScaler\n",
    "scaler = StandardScaler()\n",
    "df_venues_filtered = scaler.fit_transform(df_venues_filtered)\n",
    "#run k-means clustering on df_venues_filtered\n",
    "kmeans = KMeans(n_clusters=3, random_state=42).fit(df_venues_filtered)\n",
    "df_venues['cluster'] = kmeans.labels_\n",
    "df_venues.head()"
   ]
  },
  {
   "cell_type": "code",
   "execution_count": 55,
   "metadata": {},
   "outputs": [
    {
     "data": {
      "text/plain": [
       "cluster\n",
       "0    31\n",
       "1    14\n",
       "2     2\n",
       "Name: count, dtype: int64"
      ]
     },
     "execution_count": 55,
     "metadata": {},
     "output_type": "execute_result"
    }
   ],
   "source": [
    "#count the number of venues in each cluster\n",
    "df_venues['cluster'].value_counts()"
   ]
  },
  {
   "cell_type": "code",
   "execution_count": 56,
   "metadata": {},
   "outputs": [
    {
     "data": {
      "text/html": [
       "<div>\n",
       "<style scoped>\n",
       "    .dataframe tbody tr th:only-of-type {\n",
       "        vertical-align: middle;\n",
       "    }\n",
       "\n",
       "    .dataframe tbody tr th {\n",
       "        vertical-align: top;\n",
       "    }\n",
       "\n",
       "    .dataframe thead th {\n",
       "        text-align: right;\n",
       "    }\n",
       "</style>\n",
       "<table border=\"1\" class=\"dataframe\">\n",
       "  <thead>\n",
       "    <tr style=\"text-align: right;\">\n",
       "      <th></th>\n",
       "      <th>restaurants</th>\n",
       "      <th>groceries</th>\n",
       "    </tr>\n",
       "    <tr>\n",
       "      <th>cluster</th>\n",
       "      <th></th>\n",
       "      <th></th>\n",
       "    </tr>\n",
       "  </thead>\n",
       "  <tbody>\n",
       "    <tr>\n",
       "      <th>0</th>\n",
       "      <td>168</td>\n",
       "      <td>11</td>\n",
       "    </tr>\n",
       "    <tr>\n",
       "      <th>1</th>\n",
       "      <td>233</td>\n",
       "      <td>37</td>\n",
       "    </tr>\n",
       "    <tr>\n",
       "      <th>2</th>\n",
       "      <td>90</td>\n",
       "      <td>11</td>\n",
       "    </tr>\n",
       "  </tbody>\n",
       "</table>\n",
       "</div>"
      ],
      "text/plain": [
       "         restaurants  groceries\n",
       "cluster                        \n",
       "0                168         11\n",
       "1                233         37\n",
       "2                 90         11"
      ]
     },
     "execution_count": 56,
     "metadata": {},
     "output_type": "execute_result"
    }
   ],
   "source": [
    "#count restaurants and groceries in each cluster\n",
    "df_venues.groupby('cluster').sum()[['restaurants', 'groceries']]"
   ]
  },
  {
   "cell_type": "markdown",
   "metadata": {},
   "source": [
    "We can infer that cluster 1 represents students who dine out frequently, whereas cluster 2 comprises students who exhibit the opposite behavior. Cluster 0, on the other hand, lies somewhere in between these two extremes."
   ]
  },
  {
   "cell_type": "code",
   "execution_count": 63,
   "metadata": {},
   "outputs": [],
   "source": [
    "clusters_dict={0:'Moderate dining', 1:'Frequent dining', 2:'Minimal dining'}\n",
    "#add cluster names to the dataframe\n",
    "df_venues['recomended for'] = df_venues['cluster'].map(clusters_dict)"
   ]
  },
  {
   "cell_type": "code",
   "execution_count": 64,
   "metadata": {},
   "outputs": [],
   "source": [
    "#save the cluster to a csv file\n",
    "df_venues.to_csv('../data/processed/venues_with_clusters.csv', index=False)"
   ]
  }
 ],
 "metadata": {
  "kernelspec": {
   "display_name": "venv",
   "language": "python",
   "name": "python3"
  },
  "language_info": {
   "codemirror_mode": {
    "name": "ipython",
    "version": 3
   },
   "file_extension": ".py",
   "mimetype": "text/x-python",
   "name": "python",
   "nbconvert_exporter": "python",
   "pygments_lexer": "ipython3",
   "version": "3.9.7"
  }
 },
 "nbformat": 4,
 "nbformat_minor": 2
}
